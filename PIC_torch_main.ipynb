{
  "nbformat": 4,
  "nbformat_minor": 0,
  "metadata": {
    "colab": {
      "provenance": [],
      "authorship_tag": "ABX9TyPnP36MONAsAdJTzO9D/QDR",
      "include_colab_link": true
    },
    "kernelspec": {
      "name": "python3",
      "display_name": "Python 3"
    },
    "language_info": {
      "name": "python"
    }
  },
  "cells": [
    {
      "cell_type": "markdown",
      "metadata": {
        "id": "view-in-github",
        "colab_type": "text"
      },
      "source": [
        "<a href=\"https://colab.research.google.com/github/snytav/Kaa/blob/master/PIC_torch_main.ipynb\" target=\"_parent\"><img src=\"https://colab.research.google.com/assets/colab-badge.svg\" alt=\"Open In Colab\"/></a>"
      ]
    },
    {
      "cell_type": "code",
      "execution_count": 2,
      "metadata": {
        "id": "GVcrt_qlTD-f"
      },
      "outputs": [],
      "source": [
        "import numpy as np\n",
        "# grid step\n",
        "dh = np.array([0.01, 0.01, 0.01])\n",
        "# coordinate origin\n",
        "x0 = np.array([-0.1, -0.1, 0])\n",
        "\n"
      ]
    },
    {
      "cell_type": "code",
      "source": [
        "from google.colab import drive\n",
        "drive.mount('/content/drive', force_remount=True)\n",
        "\n",
        "import os\n",
        "from glob import glob\n",
        "os.chdir(\"/content/drive/MyDrive/0РНФ/PIC-torch\")"
      ],
      "metadata": {
        "colab": {
          "base_uri": "https://localhost:8080/"
        },
        "id": "Lh3OK4gpX5a4",
        "outputId": "1e572236-a69f-4c3d-9cf3-0681125523dc"
      },
      "execution_count": 3,
      "outputs": [
        {
          "output_type": "stream",
          "name": "stdout",
          "text": [
            "Mounted at /content/drive\n"
          ]
        }
      ]
    },
    {
      "cell_type": "code",
      "source": [
        "%pwd"
      ],
      "metadata": {
        "colab": {
          "base_uri": "https://localhost:8080/",
          "height": 35
        },
        "id": "kzHBbBA-5nAx",
        "outputId": "216af687-5ccb-4f42-e733-f64ea1ccbef6"
      },
      "execution_count": 4,
      "outputs": [
        {
          "output_type": "execute_result",
          "data": {
            "text/plain": [
              "'/content/drive/MyDrive/0РНФ/PIC-torch'"
            ],
            "application/vnd.google.colaboratory.intrinsic+json": {
              "type": "string"
            }
          },
          "metadata": {},
          "execution_count": 4
        }
      ]
    },
    {
      "cell_type": "code",
      "source": [
        "!find ./ -name PIC-torch"
      ],
      "metadata": {
        "id": "c2w9Ev-v5qxb"
      },
      "execution_count": 5,
      "outputs": []
    },
    {
      "cell_type": "code",
      "source": [
        "!ls electrons_a_4.txt"
      ],
      "metadata": {
        "id": "z-HhFQEG5ixn",
        "colab": {
          "base_uri": "https://localhost:8080/"
        },
        "outputId": "4590a3a7-b88a-4f75-e4ed-b2ff069fd35d"
      },
      "execution_count": 6,
      "outputs": [
        {
          "output_type": "stream",
          "name": "stdout",
          "text": [
            "electrons_a_4.txt\n"
          ]
        }
      ]
    },
    {
      "cell_type": "code",
      "source": [
        "import numpy as np\n",
        "# importing array of features\n",
        "feat_big = np.loadtxt('electrons_a_4.txt')\n",
        "#number of particles\n",
        "n = int(feat_big.shape[0]/8/3)\n",
        "feat_big = feat_big.reshape(n,8,3)\n",
        "feat = feat_big[:,:,:]\n",
        "x = feat[:,4,:]\n",
        "v = feat[:,2,:]\n",
        "\n",
        "\n",
        "\n",
        "#number of nodes\n",
        "ni = 21\n",
        "nj = 21\n",
        "nk = 21"
      ],
      "metadata": {
        "id": "Wnj08mSaVmWr"
      },
      "execution_count": 7,
      "outputs": []
    },
    {
      "cell_type": "code",
      "source": [
        "import torch\n",
        "#importing electric field\n",
        "ef = np.loadtxt('ef_4_.txt')\n",
        "ef = ef.reshape(ni,nj,nk,3)\n",
        "ef = torch.from_numpy(ef)\n",
        "xt = torch.from_numpy(x)\n",
        "vt = torch.from_numpy(v)\n",
        "x0t = torch.tensor(x0, dtype=float)\n",
        "dht = torch.tensor(dh, dtype=float)\n",
        "\n",
        "# PIC(xt, vt, x0t, dht, ef, feat)\n"
      ],
      "metadata": {
        "id": "xmXpLIk3Vy6A"
      },
      "execution_count": 8,
      "outputs": []
    },
    {
      "cell_type": "code",
      "source": [],
      "metadata": {
        "id": "LvdpB0nlKIcd"
      },
      "execution_count": 8,
      "outputs": []
    },
    {
      "cell_type": "code",
      "source": [],
      "metadata": {
        "id": "ahZ4hq13KPOj"
      },
      "execution_count": 8,
      "outputs": []
    },
    {
      "cell_type": "code",
      "source": [],
      "metadata": {
        "id": "-frLQz2SCvnc"
      },
      "execution_count": 8,
      "outputs": []
    },
    {
      "cell_type": "code",
      "source": [
        "\n",
        "dht = torch.from_numpy(dh)\n",
        "x0t = torch.from_numpy(x0)\n"
      ],
      "metadata": {
        "id": "46I6E-TlKVoD"
      },
      "execution_count": 9,
      "outputs": []
    },
    {
      "cell_type": "code",
      "source": [
        "def get_all_weights(d):\n",
        "    di = d[0]\n",
        "    dj = d[1]\n",
        "    dk = d[2]\n",
        "    t = [(1-di)*(1-dj)*(1-dk),(di)*(1-dj)*(1-dk),(di)*(dj)*(1-dk),(1-di)*(dj)*(1-dk),(1-di)*(1-dj)*(dk),\n",
        " (di)*(1-dj)*(dk),(di)*(dj)*(dk),(1-di)*(dj)*(dk)]\n",
        "    # return t\n",
        "\n",
        "    w = torch.from_numpy(d)\n",
        "    e = torch.tensor([[1, 1, 1], [0, 1, 1], [0, 0, 1], [1, 0, 1], [1, 1, 0], [0, 1, 0], [0, 0, 0], [1, 0, 0]])\n",
        "    tt = torch.sub(e, w)\n",
        "    t1 = torch.prod(tt, 1)\n",
        "    m = torch.tensor([1, -1, 1, -1, -1, 1, -1, 1])\n",
        "    t2 = t1*m\n",
        "    return t2.numpy()"
      ],
      "metadata": {
        "id": "at0zZlLQR1Pl"
      },
      "execution_count": 10,
      "outputs": []
    },
    {
      "cell_type": "code",
      "source": [
        "def get_all_weights_for_all(weights):\n",
        "    # wall = [get_all_weights(l) for l in weights]\n",
        "\n",
        "    # w1 = []\n",
        "    # for l in weights:\n",
        "    #     t = get_all_weights(l)\n",
        "    #     w1.append(t)\n",
        "    #\n",
        "    w = weights\n",
        "    n = len(weights)\n",
        "\n",
        "    e = torch.tensor([[1, 1, 1], [0, 1, 1], [0, 0, 1], [1, 0, 1], [1, 1, 0], [0, 1, 0], [0, 0, 0], [1, 0, 0]])\n",
        "    if w.is_cuda:\n",
        "        device = torch.device('cuda')\n",
        "        e = e.to(device)\n",
        "\n",
        "    e = e.repeat(n,1,1)\n",
        "\n",
        "    w_sqz = w.unsqueeze(1)\n",
        "    w2 = w_sqz.repeat(1, 8, 1)\n",
        "    x = torch.sub(e, w2)\n",
        "    pp = torch.prod(x, 2)\n",
        "    w_pp = torch.abs(pp)\n",
        "    # tt = torch.sub(e, w)\n",
        "    # t1 = torch.prod(tt, 1)\n",
        "    # m = torch.tensor([1, -1, 1, -1, -1, 1, -1, 1])\n",
        "    # t2 = t1 * m\n",
        "\n",
        "    return w_pp"
      ],
      "metadata": {
        "id": "yEhnkWonRaRl"
      },
      "execution_count": 11,
      "outputs": []
    },
    {
      "cell_type": "code",
      "source": [
        "def get_all_nodes_for_all(lc):\n",
        "    # cna = [get_all_nodes(l) for l in lc]\n",
        "    #\n",
        "    # cn_all = []\n",
        "    # for l in lc:\n",
        "    #     t = get_all_nodes(l)\n",
        "    #     cn_all.append(t)\n",
        "\n",
        "    shift = torch.tensor([[0, 0, 0], [1, 0, 0], [1, 1, 0], [0, 1, 0], [0, 0, 1], [1, 0, 1], [1, 1, 1], [0, 1, 1]])\n",
        "    if lc.is_cuda:\n",
        "        device = torch.device('cuda')\n",
        "        shift = shift.to(device)\n",
        "\n",
        "    n = lc.shape[0]\n",
        "    shift_all = shift.repeat(n,1,1)\n",
        "    cn = lc\n",
        "    cn = cn.unsqueeze(1)\n",
        "    cn = cn.repeat(1,8,1)\n",
        "    ind = torch.add(shift_all,cn)\n",
        "    ind = ind.to(torch.int)\n",
        "\n",
        "\n",
        "    return ind.tolist()"
      ],
      "metadata": {
        "id": "LuMSG_0xV8J7"
      },
      "execution_count": 14,
      "outputs": []
    },
    {
      "cell_type": "code",
      "source": [
        "def get_fields_for_all_particles( cell_numbers_all):\n",
        "    # fp1 = [[ef[l] for l in group] for group in cell_numbers_all]\n",
        "    # return fp\n",
        "\n",
        "    cn = torch.tensor(cell_numbers_all)\n",
        "    cn_int = cn.to(torch.long)\n",
        "    ix = cn_int[:, :, 0]\n",
        "    iy = cn_int[:, :, 1]\n",
        "    iz = cn_int[:, :, 2]\n",
        "    efp = ef[ix,iy,iz]\n",
        "    return efp"
      ],
      "metadata": {
        "id": "_MybSu_YWlH7"
      },
      "execution_count": 16,
      "outputs": []
    },
    {
      "cell_type": "code",
      "source": [
        "def push(xt,vt,x0t,dht,ef,charge,mass,dt):\n",
        "    # function performs PARTICLE PUSH, or evaluation of the new coordinates and velocities of model particles\n",
        "    # Note please: here the velocities are changed under the influence of the electric field, not because of collisions\n",
        "    # PARAMETERS:\n",
        "    # xt  - TORCH tensor of coordinates\n",
        "    # vt  - TORCH tensor of velocities\n",
        "    # x0t - the point with minimal coordinates for the whole computation domain (tensor of 3 doubles)\n",
        "    # dht - mesh steps (tensor of 3 doubles)\n",
        "    # ef  - electric field (tensor of the size ni*nj*nk*3). Each value ef[i][j][k] gives a 3D vector of the electric field at the\n",
        "    #                 mesh node with number (i,j,k)\n",
        "    # charge - charge of electrons (using the Imternational System of Units), in Coulomb units\n",
        "    # mass   - mass of the electron, in kilograms\n",
        "    # dt     - timestep (in seconds). Please use the same timestep for collision computation.\n",
        "\n",
        "    lc_t = torch.div(torch.sub(xt, x0t), dht)\n",
        "    lc_int_t = lc_t.to(torch.int)\n",
        "\n",
        "    weights_t = torch.sub(lc_t,lc_int_t)\n",
        "    weights_all = get_all_weights_for_all(weights_t)\n",
        "    cell_numbers_all = get_all_nodes_for_all(lc_t)\n",
        "    field_in_points =  get_fields_for_all_particles(cell_numbers_all)\n",
        "    wt = weights_all\n",
        "    ft = field_in_points\n",
        "    # print('qq1')\n",
        "    if wt.is_cuda:\n",
        "        device = torch.device('cuda')\n",
        "        ft = ft.to(device)\n",
        "\n",
        "    eft = torch.einsum('ij,ijk->ik', wt,ft)\n",
        "\n",
        "    ef_part = torch.mul(eft, (dt * charge / mass))\n",
        "    vt = torch.add(vt,ef_part)\n",
        "    v_dt = torch.mul(vt,dt)\n",
        "    xt = torch.add(xt,v_dt)\n",
        "    # d_lc, i_lc_x, i_lc_y = delta(lc_t.numpy(), 1, feat)\n",
        "    # d_ef, i_ef_x, i_ef_y = delta(np.array(eft.numpy()), 1, feat)\n",
        "    # d_v, i_v_x, i_v_y = delta(vt.numpy(), 3, feat)\n",
        "    # d_x, i_x_x, i_x_y = delta(xt.numpy(), 5, feat)\n",
        "    # print(d_v)\n",
        "    if xt.is_cuda:\n",
        "        xn = xt.cpu()\n",
        "    else:\n",
        "        xn = xt\n",
        "\n",
        "    if vt.is_cuda:\n",
        "        vn = vt.cpu()\n",
        "    else:\n",
        "        vn = vt\n",
        "\n",
        "    return [xn.numpy(),vn.numpy()]\n"
      ],
      "metadata": {
        "id": "Z3pGoTYoRYDe"
      },
      "execution_count": 12,
      "outputs": []
    },
    {
      "cell_type": "code",
      "source": [
        "xn,vn = push(xt,vt,x0t,dht,ef,-1.602176565e-19,9.10938215e-31,2e-10)"
      ],
      "metadata": {
        "id": "1kHNEUi-N2Lq"
      },
      "execution_count": 17,
      "outputs": []
    },
    {
      "cell_type": "code",
      "source": [
        "def delta(xn,num_attribute,feat):\n",
        "    # xn = xt.numpy()\n",
        "    x_new_feat = feat[:, num_attribute, :]\n",
        "    diff = np.subtract(xn, x_new_feat)\n",
        "    diff_1D = diff.reshape(diff.shape[0] * diff.shape[1])\n",
        "    abs_diff = np.abs(diff)\n",
        "    dv = np.max(np.abs(diff_1D))\n",
        "    res = np.where(abs_diff == np.amax(abs_diff))\n",
        "\n",
        "    max_diff = np.amax(abs_diff)\n",
        "    if max_diff > 1e-100:\n",
        "       i_x_max = res[0].tolist()\n",
        "       i_y_max = res[1].tolist()\n",
        "    else:\n",
        "        i_x_max = 0\n",
        "        i_y_max = 0\n",
        "\n",
        "    #max_diff = abs_diff[i_x_max][i_y_max]\n",
        "    return max_diff,i_x_max,i_y_max"
      ],
      "metadata": {
        "id": "PjuKOHk4Xmzj"
      },
      "execution_count": 18,
      "outputs": []
    },
    {
      "cell_type": "code",
      "source": [
        "dv,iv_x,iv_y = delta(vn,3,feat)\n",
        "dx,ix_x,ix_y = delta(xn,5,feat)\n",
        "print('velocity delta, position delta ',dv,dx)"
      ],
      "metadata": {
        "colab": {
          "base_uri": "https://localhost:8080/"
        },
        "id": "qaXvUpEgW1pa",
        "outputId": "5bd2bd09-85f3-45bb-a8fc-73ec59930222"
      },
      "execution_count": 19,
      "outputs": [
        {
          "output_type": "stream",
          "name": "stdout",
          "text": [
            "velocity delta, position delta  1.8189894035458565e-12 8.470329472543003e-22\n"
          ]
        }
      ]
    }
  ]
}